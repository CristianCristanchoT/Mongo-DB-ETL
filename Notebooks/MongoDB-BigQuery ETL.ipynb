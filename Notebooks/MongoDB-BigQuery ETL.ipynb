{
 "cells": [
  {
   "cell_type": "code",
   "execution_count": 1,
   "id": "2d549977-2bb9-4717-b887-f4fc78bb5709",
   "metadata": {},
   "outputs": [],
   "source": [
    "from datetime import datetime\n",
    "from pprint import pprint\n",
    "import pymongo\n",
    "import pandas as pd\n",
    "import matplotlib.pyplot as plt\n",
    "import seaborn as sns\n",
    "from google.cloud import bigquery\n",
    "from google.oauth2 import service_account\n"
   ]
  },
  {
   "cell_type": "markdown",
   "id": "c8aaf215-67c7-4c6f-8671-c83b49a03c5a",
   "metadata": {},
   "source": [
    "# 1. Lectura de los datos de la base de datos MongoDB"
   ]
  },
  {
   "cell_type": "markdown",
   "id": "271b678e-bf2c-41ad-ba97-91e71fdb56da",
   "metadata": {},
   "source": [
    "Lectura de credenciales de MongoDB"
   ]
  },
  {
   "cell_type": "code",
   "execution_count": 2,
   "id": "f90b481a-1fcd-4a63-964d-fe3dc4c0244c",
   "metadata": {},
   "outputs": [],
   "source": [
    "with open('../Credentials/MONGO.json') as f:\n",
    "    credenciales_acceso_mongodb = f.readlines()"
   ]
  },
  {
   "cell_type": "markdown",
   "id": "2ffbc5e7-9c7b-433e-ab54-8fabe18d7658",
   "metadata": {},
   "source": [
    "Conexion a la base de datos de MongoDB"
   ]
  },
  {
   "cell_type": "code",
   "execution_count": 3,
   "id": "7bfb997e-e611-48ff-abe2-2d3b0f1393d9",
   "metadata": {},
   "outputs": [],
   "source": [
    "DB_NAME = \"sample_analytics\"\n",
    "\n",
    "COLLECTION_accounts = \"accounts\"\n",
    "COLLECTION_customers = \"customers\"\n",
    "COLLECTION_transactions = \"transactions\"\n",
    "\n",
    "\n",
    "client = pymongo.MongoClient(credenciales_acceso_mongodb, server_api = pymongo.server_api.ServerApi('1'))\n",
    "\n",
    "db = client[DB_NAME]\n",
    "\n",
    "col_accounts = db[COLLECTION_accounts]\n",
    "col_customers = db[COLLECTION_customers]\n",
    "col_transactions = db[COLLECTION_transactions]"
   ]
  },
  {
   "cell_type": "code",
   "execution_count": 4,
   "id": "5c9ee451-0da7-498e-b435-9dade5ed8e04",
   "metadata": {},
   "outputs": [
    {
     "name": "stdout",
     "output_type": "stream",
     "text": [
      "{'_id': ObjectId('5ca4bbc7a2dd94ee58162392'),\n",
      " 'account_id': 794875,\n",
      " 'limit': 9000,\n",
      " 'products': ['InvestmentFund', 'InvestmentStock']}\n"
     ]
    }
   ],
   "source": [
    "pprint(col_accounts.find_one({}))"
   ]
  },
  {
   "cell_type": "code",
   "execution_count": 5,
   "id": "eeb0ade1-fb82-4e6f-abec-7b325bac6bff",
   "metadata": {},
   "outputs": [
    {
     "name": "stdout",
     "output_type": "stream",
     "text": [
      "{'_id': ObjectId('5ca4bbcea2dd94ee58162a6a'),\n",
      " 'accounts': [462501, 228290, 968786, 515844, 377292],\n",
      " 'address': '55711 Janet Plaza Apt. 865\\nChristinachester, CT 62716',\n",
      " 'birthdate': datetime.datetime(1988, 6, 20, 22, 15, 34),\n",
      " 'email': 'timothy78@hotmail.com',\n",
      " 'name': 'Katherine David',\n",
      " 'tier_and_details': {},\n",
      " 'username': 'hillrachel'}\n"
     ]
    }
   ],
   "source": [
    "pprint(col_customers.find_one({}))"
   ]
  },
  {
   "cell_type": "markdown",
   "id": "afbf0a5a-61bb-47e4-be45-4a2dd7728b7f",
   "metadata": {},
   "source": [
    "# 2. ETL"
   ]
  },
  {
   "cell_type": "markdown",
   "id": "59786bcc-a0ff-468c-9829-8e2bba982142",
   "metadata": {},
   "source": [
    "## 2.1. ¿Cuántas transacciones se ejecutan cada mes y en qué meses del año se realizan más transacciones?"
   ]
  },
  {
   "cell_type": "markdown",
   "id": "102c51c9-9827-4f3a-a80a-e91e21ba3488",
   "metadata": {},
   "source": [
    "### 2.1.1. Ejecución del query en Mongo que traiga los datos que necesitamos"
   ]
  },
  {
   "cell_type": "code",
   "execution_count": 6,
   "id": "21c14786-3c9e-4dba-bb77-ec8b4d19b331",
   "metadata": {
    "tags": []
   },
   "outputs": [],
   "source": [
    "transactions_dates = list(\n",
    "    \n",
    "    col_transactions.aggregate([\n",
    "        \n",
    "        {\"$unwind\": \"$transactions\"},\n",
    "        \n",
    "        { \"$group\": {\n",
    "            \n",
    "            \"_id\": {\n",
    "                \"$dateToString\": {\n",
    "                  \"date\": \"$transactions.date\",\n",
    "                  \"format\": \"%m\"\n",
    "                }\n",
    "            },\n",
    "            \"Cantidad_de_transacciones\": {\n",
    "                \"$sum\": \"$transactions.amount\"\n",
    "            },\n",
    "            \n",
    "        }},\n",
    "        \n",
    "        { \"$sort\" : { \"Cantidad_de_transacciones\" : -1 } }\n",
    "        \n",
    "    ])\n",
    ")"
   ]
  },
  {
   "cell_type": "code",
   "execution_count": 7,
   "id": "75cff731-561e-40c8-8937-76d9493763f7",
   "metadata": {},
   "outputs": [
    {
     "name": "stdout",
     "output_type": "stream",
     "text": [
      "[{'Cantidad_de_transacciones': 40774372, '_id': '12'},\n",
      " {'Cantidad_de_transacciones': 38667152, '_id': '10'},\n",
      " {'Cantidad_de_transacciones': 38562502, '_id': '08'},\n",
      " {'Cantidad_de_transacciones': 37625695, '_id': '06'},\n",
      " {'Cantidad_de_transacciones': 36965156, '_id': '11'},\n",
      " {'Cantidad_de_transacciones': 36645459, '_id': '07'},\n",
      " {'Cantidad_de_transacciones': 36600639, '_id': '03'},\n",
      " {'Cantidad_de_transacciones': 36474028, '_id': '09'},\n",
      " {'Cantidad_de_transacciones': 35700475, '_id': '05'},\n",
      " {'Cantidad_de_transacciones': 35170971, '_id': '04'},\n",
      " {'Cantidad_de_transacciones': 35160587, '_id': '01'},\n",
      " {'Cantidad_de_transacciones': 31480521, '_id': '02'}]\n"
     ]
    }
   ],
   "source": [
    "pprint(transactions_dates)"
   ]
  },
  {
   "cell_type": "markdown",
   "id": "c85921a3-0076-48b9-b104-89dfd2fc1f7d",
   "metadata": {},
   "source": [
    "### 2.1.2. Tranformación del resultado a dataframe"
   ]
  },
  {
   "cell_type": "code",
   "execution_count": 8,
   "id": "df0a6134-e443-4b80-b768-7efb02e8bafe",
   "metadata": {},
   "outputs": [
    {
     "data": {
      "text/html": [
       "<div>\n",
       "<style scoped>\n",
       "    .dataframe tbody tr th:only-of-type {\n",
       "        vertical-align: middle;\n",
       "    }\n",
       "\n",
       "    .dataframe tbody tr th {\n",
       "        vertical-align: top;\n",
       "    }\n",
       "\n",
       "    .dataframe thead th {\n",
       "        text-align: right;\n",
       "    }\n",
       "</style>\n",
       "<table border=\"1\" class=\"dataframe\">\n",
       "  <thead>\n",
       "    <tr style=\"text-align: right;\">\n",
       "      <th></th>\n",
       "      <th>Mes</th>\n",
       "      <th>Cantidad_de_transacciones</th>\n",
       "    </tr>\n",
       "  </thead>\n",
       "  <tbody>\n",
       "    <tr>\n",
       "      <th>0</th>\n",
       "      <td>12</td>\n",
       "      <td>40774372</td>\n",
       "    </tr>\n",
       "    <tr>\n",
       "      <th>1</th>\n",
       "      <td>10</td>\n",
       "      <td>38667152</td>\n",
       "    </tr>\n",
       "    <tr>\n",
       "      <th>2</th>\n",
       "      <td>08</td>\n",
       "      <td>38562502</td>\n",
       "    </tr>\n",
       "    <tr>\n",
       "      <th>3</th>\n",
       "      <td>06</td>\n",
       "      <td>37625695</td>\n",
       "    </tr>\n",
       "    <tr>\n",
       "      <th>4</th>\n",
       "      <td>11</td>\n",
       "      <td>36965156</td>\n",
       "    </tr>\n",
       "    <tr>\n",
       "      <th>5</th>\n",
       "      <td>07</td>\n",
       "      <td>36645459</td>\n",
       "    </tr>\n",
       "    <tr>\n",
       "      <th>6</th>\n",
       "      <td>03</td>\n",
       "      <td>36600639</td>\n",
       "    </tr>\n",
       "    <tr>\n",
       "      <th>7</th>\n",
       "      <td>09</td>\n",
       "      <td>36474028</td>\n",
       "    </tr>\n",
       "    <tr>\n",
       "      <th>8</th>\n",
       "      <td>05</td>\n",
       "      <td>35700475</td>\n",
       "    </tr>\n",
       "    <tr>\n",
       "      <th>9</th>\n",
       "      <td>04</td>\n",
       "      <td>35170971</td>\n",
       "    </tr>\n",
       "    <tr>\n",
       "      <th>10</th>\n",
       "      <td>01</td>\n",
       "      <td>35160587</td>\n",
       "    </tr>\n",
       "    <tr>\n",
       "      <th>11</th>\n",
       "      <td>02</td>\n",
       "      <td>31480521</td>\n",
       "    </tr>\n",
       "  </tbody>\n",
       "</table>\n",
       "</div>"
      ],
      "text/plain": [
       "   Mes  Cantidad_de_transacciones\n",
       "0   12                   40774372\n",
       "1   10                   38667152\n",
       "2   08                   38562502\n",
       "3   06                   37625695\n",
       "4   11                   36965156\n",
       "5   07                   36645459\n",
       "6   03                   36600639\n",
       "7   09                   36474028\n",
       "8   05                   35700475\n",
       "9   04                   35170971\n",
       "10  01                   35160587\n",
       "11  02                   31480521"
      ]
     },
     "execution_count": 8,
     "metadata": {},
     "output_type": "execute_result"
    }
   ],
   "source": [
    "transactiones_mes_df = pd.json_normalize(transactions_dates).rename(columns = {\"_id\": \"Mes\"})\n",
    "transactiones_mes_df"
   ]
  },
  {
   "cell_type": "code",
   "execution_count": 9,
   "id": "0c73a9e5-b447-4d34-82b5-ccb5f68bce05",
   "metadata": {},
   "outputs": [],
   "source": [
    "def cambiar_nombre_mes(input_mes):\n",
    "    \n",
    "    meses = {\n",
    "        1: \"Enero\",\n",
    "        2: \"Febrero\",\n",
    "        3: \"Marzo\",\n",
    "        4: \"Abril\",\n",
    "        5: \"Mayo\",\n",
    "        6: \"Junio\",\n",
    "        7: \"Julio\",\n",
    "        8: \"Agosto\",\n",
    "        9: \"Septiembre\",\n",
    "        10: \"Octubre\",\n",
    "        11: \"Noviembre\",\n",
    "        12: \"Diciembre\"\n",
    "    }\n",
    "    \n",
    "    return meses[int(input_mes)]"
   ]
  },
  {
   "cell_type": "code",
   "execution_count": 10,
   "id": "cb73d8ce-1121-4484-9620-9a9d66fe6fb4",
   "metadata": {},
   "outputs": [
    {
     "data": {
      "text/html": [
       "<div>\n",
       "<style scoped>\n",
       "    .dataframe tbody tr th:only-of-type {\n",
       "        vertical-align: middle;\n",
       "    }\n",
       "\n",
       "    .dataframe tbody tr th {\n",
       "        vertical-align: top;\n",
       "    }\n",
       "\n",
       "    .dataframe thead th {\n",
       "        text-align: right;\n",
       "    }\n",
       "</style>\n",
       "<table border=\"1\" class=\"dataframe\">\n",
       "  <thead>\n",
       "    <tr style=\"text-align: right;\">\n",
       "      <th></th>\n",
       "      <th>Mes</th>\n",
       "      <th>Cantidad_de_transacciones</th>\n",
       "    </tr>\n",
       "  </thead>\n",
       "  <tbody>\n",
       "    <tr>\n",
       "      <th>0</th>\n",
       "      <td>Diciembre</td>\n",
       "      <td>40774372</td>\n",
       "    </tr>\n",
       "    <tr>\n",
       "      <th>1</th>\n",
       "      <td>Octubre</td>\n",
       "      <td>38667152</td>\n",
       "    </tr>\n",
       "    <tr>\n",
       "      <th>2</th>\n",
       "      <td>Agosto</td>\n",
       "      <td>38562502</td>\n",
       "    </tr>\n",
       "    <tr>\n",
       "      <th>3</th>\n",
       "      <td>Junio</td>\n",
       "      <td>37625695</td>\n",
       "    </tr>\n",
       "    <tr>\n",
       "      <th>4</th>\n",
       "      <td>Noviembre</td>\n",
       "      <td>36965156</td>\n",
       "    </tr>\n",
       "    <tr>\n",
       "      <th>5</th>\n",
       "      <td>Julio</td>\n",
       "      <td>36645459</td>\n",
       "    </tr>\n",
       "    <tr>\n",
       "      <th>6</th>\n",
       "      <td>Marzo</td>\n",
       "      <td>36600639</td>\n",
       "    </tr>\n",
       "    <tr>\n",
       "      <th>7</th>\n",
       "      <td>Septiembre</td>\n",
       "      <td>36474028</td>\n",
       "    </tr>\n",
       "    <tr>\n",
       "      <th>8</th>\n",
       "      <td>Mayo</td>\n",
       "      <td>35700475</td>\n",
       "    </tr>\n",
       "    <tr>\n",
       "      <th>9</th>\n",
       "      <td>Abril</td>\n",
       "      <td>35170971</td>\n",
       "    </tr>\n",
       "    <tr>\n",
       "      <th>10</th>\n",
       "      <td>Enero</td>\n",
       "      <td>35160587</td>\n",
       "    </tr>\n",
       "    <tr>\n",
       "      <th>11</th>\n",
       "      <td>Febrero</td>\n",
       "      <td>31480521</td>\n",
       "    </tr>\n",
       "  </tbody>\n",
       "</table>\n",
       "</div>"
      ],
      "text/plain": [
       "           Mes  Cantidad_de_transacciones\n",
       "0    Diciembre                   40774372\n",
       "1      Octubre                   38667152\n",
       "2       Agosto                   38562502\n",
       "3        Junio                   37625695\n",
       "4    Noviembre                   36965156\n",
       "5        Julio                   36645459\n",
       "6        Marzo                   36600639\n",
       "7   Septiembre                   36474028\n",
       "8         Mayo                   35700475\n",
       "9        Abril                   35170971\n",
       "10       Enero                   35160587\n",
       "11     Febrero                   31480521"
      ]
     },
     "execution_count": 10,
     "metadata": {},
     "output_type": "execute_result"
    }
   ],
   "source": [
    "transactiones_mes_df['Mes'] = transactiones_mes_df['Mes'].apply(cambiar_nombre_mes)\n",
    "transactiones_mes_df"
   ]
  },
  {
   "cell_type": "code",
   "execution_count": 11,
   "id": "d5ff8dff-bece-43ea-9409-3ce8de64170b",
   "metadata": {},
   "outputs": [
    {
     "data": {
      "text/plain": [
       "<AxesSubplot:xlabel='Mes', ylabel='Cantidad_de_transacciones'>"
      ]
     },
     "execution_count": 11,
     "metadata": {},
     "output_type": "execute_result"
    },
    {
     "data": {
      "image/png": "[encoded data removed]",
      "text/plain": [
       "<Figure size 1080x576 with 1 Axes>"
      ]
     },
     "metadata": {
      "needs_background": "light"
     },
     "output_type": "display_data"
    }
   ],
   "source": [
    "plt.figure(figsize=(15,8))\n",
    "sns.barplot(data=transactiones_mes_df, x=\"Mes\", y=\"Cantidad_de_transacciones\")\n"
   ]
  },
  {
   "cell_type": "code",
   "execution_count": 13,
   "id": "eb7eec8f-c0ba-450b-9edf-8ff5db465309",
   "metadata": {},
   "outputs": [],
   "source": [
    "transactiones_mes_df.to_csv('../Data/transacciones_mes.csv', encoding='utf-8', index=False)"
   ]
  },
  {
   "cell_type": "markdown",
   "id": "fd3367b7-ac3a-41cc-b785-0385c5e40872",
   "metadata": {},
   "source": [
    "### 2.1.3. Carga de los datos a BigQuery"
   ]
  },
  {
   "cell_type": "code",
   "execution_count": 72,
   "id": "a3dfb118-1326-42c8-924c-67845ba02f33",
   "metadata": {},
   "outputs": [],
   "source": [
    "credentials_bigquery = service_account.Credentials.from_service_account_file(\"../Credentials/javeriana-dataprep.json\", scopes = [\"https://www.googleapis.com/auth/cloud-platform\"])\n",
    "\n",
    "client_bigquery = bigquery.Client(credentials = credentials_bigquery, project = credentials_bigquery.project_id)"
   ]
  },
  {
   "cell_type": "code",
   "execution_count": 79,
   "id": "d5a8138a-65fd-47ad-b309-119e501d33ee",
   "metadata": {},
   "outputs": [
    {
     "data": {
      "text/plain": [
       "LoadJob<project=javeriana-dataprep, location=us-central1, id=8b63202e-4285-4d78-bb48-5a03d79f4547>"
      ]
     },
     "execution_count": 79,
     "metadata": {},
     "output_type": "execute_result"
    }
   ],
   "source": [
    "job_config = bigquery.LoadJobConfig(\n",
    "    schema = [\n",
    "        bigquery.SchemaField(\"Mes\", bigquery.enums.SqlTypeNames.STRING),\n",
    "        bigquery.SchemaField(\"Cantidad_de_transacciones\", bigquery.enums.SqlTypeNames.INT64)\n",
    "    ],\n",
    "    write_disposition = \"WRITE_TRUNCATE\",\n",
    ")\n",
    "\n",
    "BQ_TABLE_NAME = \"dataprep.cantidad_de_transacciones_hechas_por_mes\"\n",
    "\n",
    "\n",
    "job = client_bigquery.load_table_from_dataframe(\n",
    "    transactiones_mes_df, BQ_TABLE_NAME, job_config = job_config\n",
    ")\n",
    "\n",
    "job.result()"
   ]
  },
  {
   "cell_type": "code",
   "execution_count": 81,
   "id": "08523f6c-550b-4423-a024-575f1b45e2d6",
   "metadata": {},
   "outputs": [
    {
     "data": {
      "text/html": [
       "<div>\n",
       "<style scoped>\n",
       "    .dataframe tbody tr th:only-of-type {\n",
       "        vertical-align: middle;\n",
       "    }\n",
       "\n",
       "    .dataframe tbody tr th {\n",
       "        vertical-align: top;\n",
       "    }\n",
       "\n",
       "    .dataframe thead th {\n",
       "        text-align: right;\n",
       "    }\n",
       "</style>\n",
       "<table border=\"1\" class=\"dataframe\">\n",
       "  <thead>\n",
       "    <tr style=\"text-align: right;\">\n",
       "      <th></th>\n",
       "      <th>Mes</th>\n",
       "      <th>Cantidad_de_transacciones</th>\n",
       "    </tr>\n",
       "  </thead>\n",
       "  <tbody>\n",
       "    <tr>\n",
       "      <th>0</th>\n",
       "      <td>Diciembre</td>\n",
       "      <td>40774372</td>\n",
       "    </tr>\n",
       "    <tr>\n",
       "      <th>1</th>\n",
       "      <td>Octubre</td>\n",
       "      <td>38667152</td>\n",
       "    </tr>\n",
       "    <tr>\n",
       "      <th>2</th>\n",
       "      <td>Agosto</td>\n",
       "      <td>38562502</td>\n",
       "    </tr>\n",
       "    <tr>\n",
       "      <th>3</th>\n",
       "      <td>Junio</td>\n",
       "      <td>37625695</td>\n",
       "    </tr>\n",
       "    <tr>\n",
       "      <th>4</th>\n",
       "      <td>Noviembre</td>\n",
       "      <td>36965156</td>\n",
       "    </tr>\n",
       "    <tr>\n",
       "      <th>5</th>\n",
       "      <td>Julio</td>\n",
       "      <td>36645459</td>\n",
       "    </tr>\n",
       "    <tr>\n",
       "      <th>6</th>\n",
       "      <td>Marzo</td>\n",
       "      <td>36600639</td>\n",
       "    </tr>\n",
       "    <tr>\n",
       "      <th>7</th>\n",
       "      <td>Septiembre</td>\n",
       "      <td>36474028</td>\n",
       "    </tr>\n",
       "    <tr>\n",
       "      <th>8</th>\n",
       "      <td>Mayo</td>\n",
       "      <td>35700475</td>\n",
       "    </tr>\n",
       "    <tr>\n",
       "      <th>9</th>\n",
       "      <td>Abril</td>\n",
       "      <td>35170971</td>\n",
       "    </tr>\n",
       "    <tr>\n",
       "      <th>10</th>\n",
       "      <td>Enero</td>\n",
       "      <td>35160587</td>\n",
       "    </tr>\n",
       "    <tr>\n",
       "      <th>11</th>\n",
       "      <td>Febrero</td>\n",
       "      <td>31480521</td>\n",
       "    </tr>\n",
       "  </tbody>\n",
       "</table>\n",
       "</div>"
      ],
      "text/plain": [
       "           Mes  Cantidad_de_transacciones\n",
       "0    Diciembre                   40774372\n",
       "1      Octubre                   38667152\n",
       "2       Agosto                   38562502\n",
       "3        Junio                   37625695\n",
       "4    Noviembre                   36965156\n",
       "5        Julio                   36645459\n",
       "6        Marzo                   36600639\n",
       "7   Septiembre                   36474028\n",
       "8         Mayo                   35700475\n",
       "9        Abril                   35170971\n",
       "10       Enero                   35160587\n",
       "11     Febrero                   31480521"
      ]
     },
     "execution_count": 81,
     "metadata": {},
     "output_type": "execute_result"
    }
   ],
   "source": [
    "query = \"\"\"SELECT * FROM `dataprep.cantidad_de_transacciones_hechas_por_mes`\"\"\"\n",
    "\n",
    "pd.read_gbq(query, credentials = credentials_bigquery)"
   ]
  },
  {
   "cell_type": "markdown",
   "id": "21e13db0-466a-4daa-9bcf-04c178d6ea9f",
   "metadata": {},
   "source": [
    "## 2.2. ¿Como evoluciona la cantidad de operaciones de venta con las de compra a través del tiempo?"
   ]
  },
  {
   "cell_type": "markdown",
   "id": "d5f99eea-1f01-4e7d-8e63-2bf232bc9b92",
   "metadata": {},
   "source": [
    "### 2.2.1. Ejecución del query en Mongo que traiga los datos que necesitamos"
   ]
  },
  {
   "cell_type": "code",
   "execution_count": 14,
   "id": "e78038e0-d1f1-45c7-a784-a2ab96d17c7c",
   "metadata": {},
   "outputs": [],
   "source": [
    "buy_series = list(\n",
    "    \n",
    "    col_transactions.aggregate([\n",
    "        \n",
    "        {\"$unwind\": \"$transactions\"},\n",
    "        \n",
    "        {\"$match\": { \"transactions.transaction_code\" : \"buy\" }},\n",
    "        \n",
    "        { \"$group\": {\n",
    "            \n",
    "            \"_id\": {\n",
    "                \"$dateToString\": {\n",
    "                  \"date\": \"$transactions.date\",\n",
    "                  \"format\": \"%Y-%m-%d\"\n",
    "                }\n",
    "            },\n",
    "            \"Cantidad_de_compras\": {\n",
    "                \"$sum\": \"$transactions.amount\"\n",
    "            },\n",
    "            \n",
    "        }}\n",
    "        \n",
    "    ])\n",
    ")"
   ]
  },
  {
   "cell_type": "code",
   "execution_count": 15,
   "id": "1f17ce50-11f0-4a00-8ffb-51b58fda0314",
   "metadata": {},
   "outputs": [
    {
     "data": {
      "text/plain": [
       "[{'_id': '1996-01-16', 'Cantidad_de_compras': 320},\n",
       " {'_id': '2005-04-14', 'Cantidad_de_compras': 38901},\n",
       " {'_id': '2008-05-28', 'Cantidad_de_compras': 23741},\n",
       " {'_id': '1998-06-03', 'Cantidad_de_compras': 18974},\n",
       " {'_id': '2010-07-15', 'Cantidad_de_compras': 59497},\n",
       " {'_id': '2012-06-12', 'Cantidad_de_compras': 61689},\n",
       " {'_id': '2014-10-24', 'Cantidad_de_compras': 100668},\n",
       " {'_id': '1997-06-26', 'Cantidad_de_compras': 9132},\n",
       " {'_id': '2007-05-18', 'Cantidad_de_compras': 11872},\n",
       " {'_id': '1993-08-13', 'Cantidad_de_compras': 695}]"
      ]
     },
     "execution_count": 15,
     "metadata": {},
     "output_type": "execute_result"
    }
   ],
   "source": [
    "buy_series[0:10]"
   ]
  },
  {
   "cell_type": "code",
   "execution_count": 16,
   "id": "b6f9be10-5980-4b9c-a56a-7268f162f1a2",
   "metadata": {},
   "outputs": [],
   "source": [
    "sell_series = list(\n",
    "    \n",
    "    col_transactions.aggregate([\n",
    "        \n",
    "        {\"$unwind\": \"$transactions\"},\n",
    "        \n",
    "        {\"$match\": { \"transactions.transaction_code\" : \"sell\" }},\n",
    "        \n",
    "        { \"$group\": {\n",
    "            \n",
    "            \"_id\": {\n",
    "                \"$dateToString\": {\n",
    "                  \"date\": \"$transactions.date\",\n",
    "                  \"format\": \"%Y-%m-%d\"\n",
    "                }\n",
    "            },\n",
    "            \"Cantidad_de_ventas\": {\n",
    "                \"$sum\": \"$transactions.amount\"\n",
    "            },\n",
    "            \n",
    "        }}\n",
    "        \n",
    "    ])\n",
    ")"
   ]
  },
  {
   "cell_type": "code",
   "execution_count": 17,
   "id": "c2116e78-1a18-4566-a778-d4c5419953f9",
   "metadata": {},
   "outputs": [
    {
     "data": {
      "text/plain": [
       "[{'_id': '1975-01-22', 'Cantidad_de_ventas': 7796},\n",
       " {'_id': '2005-04-14', 'Cantidad_de_ventas': 15617},\n",
       " {'_id': '2008-05-28', 'Cantidad_de_ventas': 40361},\n",
       " {'_id': '1998-06-03', 'Cantidad_de_ventas': 1617},\n",
       " {'_id': '1974-06-04', 'Cantidad_de_ventas': 2769},\n",
       " {'_id': '2010-07-15', 'Cantidad_de_ventas': 51891},\n",
       " {'_id': '2012-06-12', 'Cantidad_de_ventas': 31215},\n",
       " {'_id': '1973-10-15', 'Cantidad_de_ventas': 8873},\n",
       " {'_id': '2014-10-24', 'Cantidad_de_ventas': 118447},\n",
       " {'_id': '2007-05-18', 'Cantidad_de_ventas': 10799}]"
      ]
     },
     "execution_count": 17,
     "metadata": {},
     "output_type": "execute_result"
    }
   ],
   "source": [
    "sell_series[0:10]"
   ]
  },
  {
   "cell_type": "markdown",
   "id": "47576d75-9891-4662-8352-47fd0a476c1a",
   "metadata": {},
   "source": [
    "### 2.2.2. Tranformación del resultado a dataframe"
   ]
  },
  {
   "cell_type": "code",
   "execution_count": 18,
   "id": "a1f1a0b3-da9d-4945-accb-45ed9102dd84",
   "metadata": {},
   "outputs": [
    {
     "data": {
      "text/html": [
       "<div>\n",
       "<style scoped>\n",
       "    .dataframe tbody tr th:only-of-type {\n",
       "        vertical-align: middle;\n",
       "    }\n",
       "\n",
       "    .dataframe tbody tr th {\n",
       "        vertical-align: top;\n",
       "    }\n",
       "\n",
       "    .dataframe thead th {\n",
       "        text-align: right;\n",
       "    }\n",
       "</style>\n",
       "<table border=\"1\" class=\"dataframe\">\n",
       "  <thead>\n",
       "    <tr style=\"text-align: right;\">\n",
       "      <th></th>\n",
       "      <th>Fecha</th>\n",
       "      <th>Cantidad_de_compras</th>\n",
       "    </tr>\n",
       "  </thead>\n",
       "  <tbody>\n",
       "    <tr>\n",
       "      <th>856</th>\n",
       "      <td>1962-05-22</td>\n",
       "      <td>6360</td>\n",
       "    </tr>\n",
       "    <tr>\n",
       "      <th>1519</th>\n",
       "      <td>1962-06-21</td>\n",
       "      <td>5024</td>\n",
       "    </tr>\n",
       "    <tr>\n",
       "      <th>5002</th>\n",
       "      <td>1963-01-23</td>\n",
       "      <td>8064</td>\n",
       "    </tr>\n",
       "    <tr>\n",
       "      <th>1218</th>\n",
       "      <td>1963-02-11</td>\n",
       "      <td>5303</td>\n",
       "    </tr>\n",
       "    <tr>\n",
       "      <th>2133</th>\n",
       "      <td>1963-03-28</td>\n",
       "      <td>6116</td>\n",
       "    </tr>\n",
       "    <tr>\n",
       "      <th>...</th>\n",
       "      <td>...</td>\n",
       "      <td>...</td>\n",
       "    </tr>\n",
       "    <tr>\n",
       "      <th>4483</th>\n",
       "      <td>2017-01-03</td>\n",
       "      <td>118655</td>\n",
       "    </tr>\n",
       "    <tr>\n",
       "      <th>4868</th>\n",
       "      <td>2017-01-04</td>\n",
       "      <td>98953</td>\n",
       "    </tr>\n",
       "    <tr>\n",
       "      <th>7400</th>\n",
       "      <td>2017-01-05</td>\n",
       "      <td>128604</td>\n",
       "    </tr>\n",
       "    <tr>\n",
       "      <th>2033</th>\n",
       "      <td>2017-01-06</td>\n",
       "      <td>166431</td>\n",
       "    </tr>\n",
       "    <tr>\n",
       "      <th>2047</th>\n",
       "      <td>2017-01-09</td>\n",
       "      <td>74317</td>\n",
       "    </tr>\n",
       "  </tbody>\n",
       "</table>\n",
       "<p>7654 rows × 2 columns</p>\n",
       "</div>"
      ],
      "text/plain": [
       "          Fecha  Cantidad_de_compras\n",
       "856  1962-05-22                 6360\n",
       "1519 1962-06-21                 5024\n",
       "5002 1963-01-23                 8064\n",
       "1218 1963-02-11                 5303\n",
       "2133 1963-03-28                 6116\n",
       "...         ...                  ...\n",
       "4483 2017-01-03               118655\n",
       "4868 2017-01-04                98953\n",
       "7400 2017-01-05               128604\n",
       "2033 2017-01-06               166431\n",
       "2047 2017-01-09                74317\n",
       "\n",
       "[7654 rows x 2 columns]"
      ]
     },
     "execution_count": 18,
     "metadata": {},
     "output_type": "execute_result"
    }
   ],
   "source": [
    "compras_df = pd.json_normalize(buy_series).rename(columns = {\"_id\": \"Fecha\"})\n",
    "compras_df['Fecha'] = pd.to_datetime(compras_df['Fecha'], format='%Y-%m-%d')\n",
    "compras_df = compras_df.sort_values(by=['Fecha'])\n",
    "compras_df"
   ]
  },
  {
   "cell_type": "code",
   "execution_count": 19,
   "id": "fe61d189-6910-4d62-a0b8-c72b09d8f963",
   "metadata": {},
   "outputs": [
    {
     "data": {
      "text/html": [
       "<div>\n",
       "<style scoped>\n",
       "    .dataframe tbody tr th:only-of-type {\n",
       "        vertical-align: middle;\n",
       "    }\n",
       "\n",
       "    .dataframe tbody tr th {\n",
       "        vertical-align: top;\n",
       "    }\n",
       "\n",
       "    .dataframe thead th {\n",
       "        text-align: right;\n",
       "    }\n",
       "</style>\n",
       "<table border=\"1\" class=\"dataframe\">\n",
       "  <thead>\n",
       "    <tr style=\"text-align: right;\">\n",
       "      <th></th>\n",
       "      <th>Fecha</th>\n",
       "      <th>Cantidad_de_ventas</th>\n",
       "    </tr>\n",
       "  </thead>\n",
       "  <tbody>\n",
       "    <tr>\n",
       "      <th>3545</th>\n",
       "      <td>1962-03-08</td>\n",
       "      <td>727</td>\n",
       "    </tr>\n",
       "    <tr>\n",
       "      <th>3082</th>\n",
       "      <td>1962-11-09</td>\n",
       "      <td>5573</td>\n",
       "    </tr>\n",
       "    <tr>\n",
       "      <th>3714</th>\n",
       "      <td>1963-02-21</td>\n",
       "      <td>7700</td>\n",
       "    </tr>\n",
       "    <tr>\n",
       "      <th>2655</th>\n",
       "      <td>1963-05-24</td>\n",
       "      <td>8932</td>\n",
       "    </tr>\n",
       "    <tr>\n",
       "      <th>328</th>\n",
       "      <td>1963-07-25</td>\n",
       "      <td>547</td>\n",
       "    </tr>\n",
       "    <tr>\n",
       "      <th>...</th>\n",
       "      <td>...</td>\n",
       "      <td>...</td>\n",
       "    </tr>\n",
       "    <tr>\n",
       "      <th>4468</th>\n",
       "      <td>2017-01-03</td>\n",
       "      <td>159360</td>\n",
       "    </tr>\n",
       "    <tr>\n",
       "      <th>4868</th>\n",
       "      <td>2017-01-04</td>\n",
       "      <td>113118</td>\n",
       "    </tr>\n",
       "    <tr>\n",
       "      <th>7394</th>\n",
       "      <td>2017-01-05</td>\n",
       "      <td>99403</td>\n",
       "    </tr>\n",
       "    <tr>\n",
       "      <th>2012</th>\n",
       "      <td>2017-01-06</td>\n",
       "      <td>143189</td>\n",
       "    </tr>\n",
       "    <tr>\n",
       "      <th>2025</th>\n",
       "      <td>2017-01-09</td>\n",
       "      <td>52966</td>\n",
       "    </tr>\n",
       "  </tbody>\n",
       "</table>\n",
       "<p>7664 rows × 2 columns</p>\n",
       "</div>"
      ],
      "text/plain": [
       "          Fecha  Cantidad_de_ventas\n",
       "3545 1962-03-08                 727\n",
       "3082 1962-11-09                5573\n",
       "3714 1963-02-21                7700\n",
       "2655 1963-05-24                8932\n",
       "328  1963-07-25                 547\n",
       "...         ...                 ...\n",
       "4468 2017-01-03              159360\n",
       "4868 2017-01-04              113118\n",
       "7394 2017-01-05               99403\n",
       "2012 2017-01-06              143189\n",
       "2025 2017-01-09               52966\n",
       "\n",
       "[7664 rows x 2 columns]"
      ]
     },
     "execution_count": 19,
     "metadata": {},
     "output_type": "execute_result"
    }
   ],
   "source": [
    "ventas_df = pd.json_normalize(sell_series).rename(columns = {\"_id\": \"Fecha\"})\n",
    "ventas_df['Fecha'] = pd.to_datetime(ventas_df['Fecha'], format='%Y-%m-%d')\n",
    "ventas_df = ventas_df.sort_values(by=['Fecha'])\n",
    "ventas_df"
   ]
  },
  {
   "cell_type": "code",
   "execution_count": 20,
   "id": "367dac20-bbd6-4ebb-a2c5-afb475dbf0bf",
   "metadata": {},
   "outputs": [
    {
     "data": {
      "text/html": [
       "<div>\n",
       "<style scoped>\n",
       "    .dataframe tbody tr th:only-of-type {\n",
       "        vertical-align: middle;\n",
       "    }\n",
       "\n",
       "    .dataframe tbody tr th {\n",
       "        vertical-align: top;\n",
       "    }\n",
       "\n",
       "    .dataframe thead th {\n",
       "        text-align: right;\n",
       "    }\n",
       "</style>\n",
       "<table border=\"1\" class=\"dataframe\">\n",
       "  <thead>\n",
       "    <tr style=\"text-align: right;\">\n",
       "      <th></th>\n",
       "      <th>Fecha</th>\n",
       "      <th>Cantidad_de_compras</th>\n",
       "      <th>Cantidad_de_ventas</th>\n",
       "    </tr>\n",
       "  </thead>\n",
       "  <tbody>\n",
       "    <tr>\n",
       "      <th>0</th>\n",
       "      <td>1967-04-05</td>\n",
       "      <td>5150</td>\n",
       "      <td>1269</td>\n",
       "    </tr>\n",
       "    <tr>\n",
       "      <th>1</th>\n",
       "      <td>1968-12-26</td>\n",
       "      <td>3997</td>\n",
       "      <td>103</td>\n",
       "    </tr>\n",
       "    <tr>\n",
       "      <th>2</th>\n",
       "      <td>1969-04-18</td>\n",
       "      <td>1912</td>\n",
       "      <td>1289</td>\n",
       "    </tr>\n",
       "    <tr>\n",
       "      <th>3</th>\n",
       "      <td>1970-08-11</td>\n",
       "      <td>1391</td>\n",
       "      <td>7381</td>\n",
       "    </tr>\n",
       "    <tr>\n",
       "      <th>4</th>\n",
       "      <td>1972-04-17</td>\n",
       "      <td>2378</td>\n",
       "      <td>4218</td>\n",
       "    </tr>\n",
       "    <tr>\n",
       "      <th>...</th>\n",
       "      <td>...</td>\n",
       "      <td>...</td>\n",
       "      <td>...</td>\n",
       "    </tr>\n",
       "    <tr>\n",
       "      <th>6283</th>\n",
       "      <td>2017-01-03</td>\n",
       "      <td>118655</td>\n",
       "      <td>159360</td>\n",
       "    </tr>\n",
       "    <tr>\n",
       "      <th>6284</th>\n",
       "      <td>2017-01-04</td>\n",
       "      <td>98953</td>\n",
       "      <td>113118</td>\n",
       "    </tr>\n",
       "    <tr>\n",
       "      <th>6285</th>\n",
       "      <td>2017-01-05</td>\n",
       "      <td>128604</td>\n",
       "      <td>99403</td>\n",
       "    </tr>\n",
       "    <tr>\n",
       "      <th>6286</th>\n",
       "      <td>2017-01-06</td>\n",
       "      <td>166431</td>\n",
       "      <td>143189</td>\n",
       "    </tr>\n",
       "    <tr>\n",
       "      <th>6287</th>\n",
       "      <td>2017-01-09</td>\n",
       "      <td>74317</td>\n",
       "      <td>52966</td>\n",
       "    </tr>\n",
       "  </tbody>\n",
       "</table>\n",
       "<p>6288 rows × 3 columns</p>\n",
       "</div>"
      ],
      "text/plain": [
       "          Fecha  Cantidad_de_compras  Cantidad_de_ventas\n",
       "0    1967-04-05                 5150                1269\n",
       "1    1968-12-26                 3997                 103\n",
       "2    1969-04-18                 1912                1289\n",
       "3    1970-08-11                 1391                7381\n",
       "4    1972-04-17                 2378                4218\n",
       "...         ...                  ...                 ...\n",
       "6283 2017-01-03               118655              159360\n",
       "6284 2017-01-04                98953              113118\n",
       "6285 2017-01-05               128604               99403\n",
       "6286 2017-01-06               166431              143189\n",
       "6287 2017-01-09                74317               52966\n",
       "\n",
       "[6288 rows x 3 columns]"
      ]
     },
     "execution_count": 20,
     "metadata": {},
     "output_type": "execute_result"
    }
   ],
   "source": [
    "series_compras_ventas_df = pd.concat([compras_df.set_index('Fecha'), ventas_df.set_index('Fecha')], axis=1, join=\"inner\").reset_index()\n",
    "series_compras_ventas_df"
   ]
  },
  {
   "cell_type": "code",
   "execution_count": 21,
   "id": "939ad685-7465-4a45-9700-452610dd6240",
   "metadata": {},
   "outputs": [
    {
     "data": {
      "image/png": "[encoded data removed]",
      "text/plain": [
       "<Figure size 1440x504 with 1 Axes>"
      ]
     },
     "metadata": {
      "needs_background": "light"
     },
     "output_type": "display_data"
    }
   ],
   "source": [
    "plt.figure(figsize=(20, 7))\n",
    "\n",
    "plt.plot(series_compras_ventas_df['Fecha'], series_compras_ventas_df['Cantidad_de_compras'], label=\"Compras\")\n",
    "plt.plot(series_compras_ventas_df['Fecha'], series_compras_ventas_df['Cantidad_de_ventas'], label=\"Ventas\")\n",
    "\n",
    "plt.xlabel(\"Fecha\")\n",
    "plt.ylabel(\"Cantidad de operaciones\")\n",
    "plt.legend(fontsize=14)\n",
    "plt.title('Evolucion de las compras y ventas en el tiempo')\n",
    "plt.grid(True)\n",
    "plt.show();"
   ]
  },
  {
   "cell_type": "code",
   "execution_count": 22,
   "id": "95d3e9d1-94b2-48ed-b06c-148458c18049",
   "metadata": {},
   "outputs": [],
   "source": [
    "series_compras_ventas_df.to_csv('../Data/series_compras_ventas.csv', encoding='utf-8', index=False)"
   ]
  },
  {
   "cell_type": "markdown",
   "id": "d20bed07-34a0-401b-bdab-4b8f5ec969b2",
   "metadata": {},
   "source": [
    "### 2.2.3. Carga de los datos a BigQuery"
   ]
  },
  {
   "cell_type": "code",
   "execution_count": 122,
   "id": "ad75de9b-1097-435f-8ddc-d6a95b70cf66",
   "metadata": {},
   "outputs": [
    {
     "data": {
      "text/plain": [
       "LoadJob<project=javeriana-dataprep, location=us-central1, id=85327194-0763-4df9-a985-6ede66b09e3d>"
      ]
     },
     "execution_count": 122,
     "metadata": {},
     "output_type": "execute_result"
    }
   ],
   "source": [
    "job_config = bigquery.LoadJobConfig(\n",
    "    schema = [\n",
    "        bigquery.SchemaField(\"Fecha\", bigquery.enums.SqlTypeNames.TIMESTAMP),\n",
    "        bigquery.SchemaField(\"Cantidad_de_compras\", bigquery.enums.SqlTypeNames.INT64),\n",
    "        bigquery.SchemaField(\"Cantidad_de_ventas\", bigquery.enums.SqlTypeNames.INT64)\n",
    "    ],\n",
    "    write_disposition = \"WRITE_TRUNCATE\",\n",
    ")\n",
    "\n",
    "BQ_TABLE_NAME = \"dataprep.serie_de_tiempo_de_compras_y_ventas\"\n",
    "\n",
    "\n",
    "job = client_bigquery.load_table_from_dataframe(\n",
    "    series_compras_ventas_df, BQ_TABLE_NAME, job_config = job_config\n",
    ")\n",
    "\n",
    "job.result()"
   ]
  },
  {
   "cell_type": "code",
   "execution_count": 123,
   "id": "c5543d27-c2b6-445e-a2bb-9ff389482afb",
   "metadata": {},
   "outputs": [
    {
     "data": {
      "text/html": [
       "<div>\n",
       "<style scoped>\n",
       "    .dataframe tbody tr th:only-of-type {\n",
       "        vertical-align: middle;\n",
       "    }\n",
       "\n",
       "    .dataframe tbody tr th {\n",
       "        vertical-align: top;\n",
       "    }\n",
       "\n",
       "    .dataframe thead th {\n",
       "        text-align: right;\n",
       "    }\n",
       "</style>\n",
       "<table border=\"1\" class=\"dataframe\">\n",
       "  <thead>\n",
       "    <tr style=\"text-align: right;\">\n",
       "      <th></th>\n",
       "      <th>Fecha</th>\n",
       "      <th>Cantidad_de_compras</th>\n",
       "      <th>Cantidad_de_ventas</th>\n",
       "    </tr>\n",
       "  </thead>\n",
       "  <tbody>\n",
       "    <tr>\n",
       "      <th>0</th>\n",
       "      <td>2011-04-28 00:00:00+00:00</td>\n",
       "      <td>65536</td>\n",
       "      <td>36278</td>\n",
       "    </tr>\n",
       "    <tr>\n",
       "      <th>1</th>\n",
       "      <td>1999-06-15 00:00:00+00:00</td>\n",
       "      <td>4608</td>\n",
       "      <td>22776</td>\n",
       "    </tr>\n",
       "    <tr>\n",
       "      <th>2</th>\n",
       "      <td>1988-02-19 00:00:00+00:00</td>\n",
       "      <td>5120</td>\n",
       "      <td>1350</td>\n",
       "    </tr>\n",
       "    <tr>\n",
       "      <th>3</th>\n",
       "      <td>1995-11-21 00:00:00+00:00</td>\n",
       "      <td>5632</td>\n",
       "      <td>3885</td>\n",
       "    </tr>\n",
       "    <tr>\n",
       "      <th>4</th>\n",
       "      <td>1994-09-20 00:00:00+00:00</td>\n",
       "      <td>8448</td>\n",
       "      <td>10334</td>\n",
       "    </tr>\n",
       "    <tr>\n",
       "      <th>...</th>\n",
       "      <td>...</td>\n",
       "      <td>...</td>\n",
       "      <td>...</td>\n",
       "    </tr>\n",
       "    <tr>\n",
       "      <th>6283</th>\n",
       "      <td>2015-07-24 00:00:00+00:00</td>\n",
       "      <td>96511</td>\n",
       "      <td>110957</td>\n",
       "    </tr>\n",
       "    <tr>\n",
       "      <th>6284</th>\n",
       "      <td>2006-02-17 00:00:00+00:00</td>\n",
       "      <td>34815</td>\n",
       "      <td>14080</td>\n",
       "    </tr>\n",
       "    <tr>\n",
       "      <th>6285</th>\n",
       "      <td>2012-08-13 00:00:00+00:00</td>\n",
       "      <td>42495</td>\n",
       "      <td>58283</td>\n",
       "    </tr>\n",
       "    <tr>\n",
       "      <th>6286</th>\n",
       "      <td>2013-08-21 00:00:00+00:00</td>\n",
       "      <td>64511</td>\n",
       "      <td>56067</td>\n",
       "    </tr>\n",
       "    <tr>\n",
       "      <th>6287</th>\n",
       "      <td>2013-04-03 00:00:00+00:00</td>\n",
       "      <td>65279</td>\n",
       "      <td>34025</td>\n",
       "    </tr>\n",
       "  </tbody>\n",
       "</table>\n",
       "<p>6288 rows × 3 columns</p>\n",
       "</div>"
      ],
      "text/plain": [
       "                         Fecha  Cantidad_de_compras  Cantidad_de_ventas\n",
       "0    2011-04-28 00:00:00+00:00                65536               36278\n",
       "1    1999-06-15 00:00:00+00:00                 4608               22776\n",
       "2    1988-02-19 00:00:00+00:00                 5120                1350\n",
       "3    1995-11-21 00:00:00+00:00                 5632                3885\n",
       "4    1994-09-20 00:00:00+00:00                 8448               10334\n",
       "...                        ...                  ...                 ...\n",
       "6283 2015-07-24 00:00:00+00:00                96511              110957\n",
       "6284 2006-02-17 00:00:00+00:00                34815               14080\n",
       "6285 2012-08-13 00:00:00+00:00                42495               58283\n",
       "6286 2013-08-21 00:00:00+00:00                64511               56067\n",
       "6287 2013-04-03 00:00:00+00:00                65279               34025\n",
       "\n",
       "[6288 rows x 3 columns]"
      ]
     },
     "execution_count": 123,
     "metadata": {},
     "output_type": "execute_result"
    }
   ],
   "source": [
    "query = \"\"\"SELECT * FROM `dataprep.serie_de_tiempo_de_compras_y_ventas`\"\"\"\n",
    "\n",
    "pd.read_gbq(query, credentials = credentials_bigquery)"
   ]
  },
  {
   "cell_type": "markdown",
   "id": "d22695d6-48a4-4381-b985-7879f1447069",
   "metadata": {},
   "source": [
    "## 2.3. ¿Cuáles son los tipos de cuentas más usuales entre los clientes?"
   ]
  },
  {
   "cell_type": "markdown",
   "id": "f7137b62-51d7-483a-bdac-5eb0d16755da",
   "metadata": {},
   "source": [
    "### 2.3.1. Ejecución del query en Mongo que traiga los datos que necesitamos"
   ]
  },
  {
   "cell_type": "code",
   "execution_count": 23,
   "id": "a687042b-9fb3-4046-8d57-a2d7810c65bc",
   "metadata": {},
   "outputs": [],
   "source": [
    "tipos_de_cuentas = list(\n",
    "    \n",
    "    col_accounts.aggregate([\n",
    "        \n",
    "        {\"$unwind\": \"$products\"},\n",
    "        \n",
    "        {\"$group\" : { \"_id\" : '$products', \"Cantidad\" : {\"$sum\" : 1}}},\n",
    "        \n",
    "        { \"$sort\" : { \"Cantidad\" : -1 }}\n",
    "        \n",
    "    ])\n",
    ")"
   ]
  },
  {
   "cell_type": "code",
   "execution_count": 24,
   "id": "51da417d-20f0-4963-92f3-4526553911c0",
   "metadata": {
    "tags": []
   },
   "outputs": [
    {
     "data": {
      "text/plain": [
       "[{'_id': 'InvestmentStock', 'Cantidad': 1746},\n",
       " {'_id': 'CurrencyService', 'Cantidad': 742},\n",
       " {'_id': 'Brokerage', 'Cantidad': 741},\n",
       " {'_id': 'InvestmentFund', 'Cantidad': 728},\n",
       " {'_id': 'Commodity', 'Cantidad': 720},\n",
       " {'_id': 'Derivatives', 'Cantidad': 706}]"
      ]
     },
     "execution_count": 24,
     "metadata": {},
     "output_type": "execute_result"
    }
   ],
   "source": [
    "tipos_de_cuentas"
   ]
  },
  {
   "cell_type": "markdown",
   "id": "1b74790a-1bce-4b14-bb2e-b4b3b6ff1460",
   "metadata": {},
   "source": [
    "### 2.3.2. Tranformación del resultado a dataframe"
   ]
  },
  {
   "cell_type": "code",
   "execution_count": 25,
   "id": "55ed72c5-af0e-4d68-8706-fbc2e4c6ef0a",
   "metadata": {},
   "outputs": [
    {
     "data": {
      "text/html": [
       "<div>\n",
       "<style scoped>\n",
       "    .dataframe tbody tr th:only-of-type {\n",
       "        vertical-align: middle;\n",
       "    }\n",
       "\n",
       "    .dataframe tbody tr th {\n",
       "        vertical-align: top;\n",
       "    }\n",
       "\n",
       "    .dataframe thead th {\n",
       "        text-align: right;\n",
       "    }\n",
       "</style>\n",
       "<table border=\"1\" class=\"dataframe\">\n",
       "  <thead>\n",
       "    <tr style=\"text-align: right;\">\n",
       "      <th></th>\n",
       "      <th>Tipo_de_cuenta</th>\n",
       "      <th>Cantidad</th>\n",
       "    </tr>\n",
       "  </thead>\n",
       "  <tbody>\n",
       "    <tr>\n",
       "      <th>0</th>\n",
       "      <td>InvestmentStock</td>\n",
       "      <td>1746</td>\n",
       "    </tr>\n",
       "    <tr>\n",
       "      <th>1</th>\n",
       "      <td>CurrencyService</td>\n",
       "      <td>742</td>\n",
       "    </tr>\n",
       "    <tr>\n",
       "      <th>2</th>\n",
       "      <td>Brokerage</td>\n",
       "      <td>741</td>\n",
       "    </tr>\n",
       "    <tr>\n",
       "      <th>3</th>\n",
       "      <td>InvestmentFund</td>\n",
       "      <td>728</td>\n",
       "    </tr>\n",
       "    <tr>\n",
       "      <th>4</th>\n",
       "      <td>Commodity</td>\n",
       "      <td>720</td>\n",
       "    </tr>\n",
       "    <tr>\n",
       "      <th>5</th>\n",
       "      <td>Derivatives</td>\n",
       "      <td>706</td>\n",
       "    </tr>\n",
       "  </tbody>\n",
       "</table>\n",
       "</div>"
      ],
      "text/plain": [
       "    Tipo_de_cuenta  Cantidad\n",
       "0  InvestmentStock      1746\n",
       "1  CurrencyService       742\n",
       "2        Brokerage       741\n",
       "3   InvestmentFund       728\n",
       "4        Commodity       720\n",
       "5      Derivatives       706"
      ]
     },
     "execution_count": 25,
     "metadata": {},
     "output_type": "execute_result"
    }
   ],
   "source": [
    "tipos_cuentas_df = pd.json_normalize(tipos_de_cuentas).rename(columns = {\"_id\": \"Tipo_de_cuenta\"})\n",
    "tipos_cuentas_df"
   ]
  },
  {
   "cell_type": "code",
   "execution_count": 26,
   "id": "45103894-27c7-4618-8f89-a5a1d6a528d6",
   "metadata": {},
   "outputs": [
    {
     "data": {
      "text/plain": [
       "<AxesSubplot:xlabel='Tipo_de_cuenta', ylabel='Cantidad'>"
      ]
     },
     "execution_count": 26,
     "metadata": {},
     "output_type": "execute_result"
    },
    {
     "data": {
      "image/png": "[encoded data removed]",
      "text/plain": [
       "<Figure size 1080x576 with 1 Axes>"
      ]
     },
     "metadata": {
      "needs_background": "light"
     },
     "output_type": "display_data"
    }
   ],
   "source": [
    "plt.figure(figsize=(15,8))\n",
    "sns.barplot(data=tipos_cuentas_df, x=\"Tipo_de_cuenta\", y=\"Cantidad\")"
   ]
  },
  {
   "cell_type": "code",
   "execution_count": 27,
   "id": "9d2500d5-35c1-4413-812d-d181743922ab",
   "metadata": {},
   "outputs": [],
   "source": [
    "tipos_cuentas_df.to_csv('../Data/tipos_cuentas.csv', encoding='utf-8', index=False)"
   ]
  },
  {
   "cell_type": "markdown",
   "id": "56ece680-6def-4916-b5d3-b09648328609",
   "metadata": {},
   "source": [
    "### 2.3.3. Carga de los datos a BigQuery"
   ]
  },
  {
   "cell_type": "code",
   "execution_count": 139,
   "id": "69aa4230-de17-43fc-9e54-95ac95c2f81c",
   "metadata": {},
   "outputs": [
    {
     "data": {
      "text/plain": [
       "LoadJob<project=javeriana-dataprep, location=us-central1, id=a3721e35-339d-4415-8d16-300f4d8bb43c>"
      ]
     },
     "execution_count": 139,
     "metadata": {},
     "output_type": "execute_result"
    }
   ],
   "source": [
    "job_config = bigquery.LoadJobConfig(\n",
    "    schema = [\n",
    "        bigquery.SchemaField(\"Tipo_de_cuenta\", bigquery.enums.SqlTypeNames.STRING),\n",
    "        bigquery.SchemaField(\"Cantidad\", bigquery.enums.SqlTypeNames.INT64)\n",
    "    ],\n",
    "    write_disposition = \"WRITE_TRUNCATE\",\n",
    ")\n",
    "\n",
    "BQ_TABLE_NAME = \"dataprep.cantidad_de_tipos_de_cuentas\"\n",
    "\n",
    "\n",
    "job = client_bigquery.load_table_from_dataframe(\n",
    "    tipos_cuentas_df, BQ_TABLE_NAME, job_config = job_config\n",
    ")\n",
    "\n",
    "job.result()"
   ]
  },
  {
   "cell_type": "code",
   "execution_count": 140,
   "id": "146866db-549b-4cfc-9163-a1fa05979ac2",
   "metadata": {},
   "outputs": [
    {
     "data": {
      "text/html": [
       "<div>\n",
       "<style scoped>\n",
       "    .dataframe tbody tr th:only-of-type {\n",
       "        vertical-align: middle;\n",
       "    }\n",
       "\n",
       "    .dataframe tbody tr th {\n",
       "        vertical-align: top;\n",
       "    }\n",
       "\n",
       "    .dataframe thead th {\n",
       "        text-align: right;\n",
       "    }\n",
       "</style>\n",
       "<table border=\"1\" class=\"dataframe\">\n",
       "  <thead>\n",
       "    <tr style=\"text-align: right;\">\n",
       "      <th></th>\n",
       "      <th>Tipo_de_cuenta</th>\n",
       "      <th>Cantidad</th>\n",
       "    </tr>\n",
       "  </thead>\n",
       "  <tbody>\n",
       "    <tr>\n",
       "      <th>0</th>\n",
       "      <td>InvestmentStock</td>\n",
       "      <td>1746</td>\n",
       "    </tr>\n",
       "    <tr>\n",
       "      <th>1</th>\n",
       "      <td>CurrencyService</td>\n",
       "      <td>742</td>\n",
       "    </tr>\n",
       "    <tr>\n",
       "      <th>2</th>\n",
       "      <td>Brokerage</td>\n",
       "      <td>741</td>\n",
       "    </tr>\n",
       "    <tr>\n",
       "      <th>3</th>\n",
       "      <td>InvestmentFund</td>\n",
       "      <td>728</td>\n",
       "    </tr>\n",
       "    <tr>\n",
       "      <th>4</th>\n",
       "      <td>Commodity</td>\n",
       "      <td>720</td>\n",
       "    </tr>\n",
       "    <tr>\n",
       "      <th>5</th>\n",
       "      <td>Derivatives</td>\n",
       "      <td>706</td>\n",
       "    </tr>\n",
       "  </tbody>\n",
       "</table>\n",
       "</div>"
      ],
      "text/plain": [
       "    Tipo_de_cuenta  Cantidad\n",
       "0  InvestmentStock      1746\n",
       "1  CurrencyService       742\n",
       "2        Brokerage       741\n",
       "3   InvestmentFund       728\n",
       "4        Commodity       720\n",
       "5      Derivatives       706"
      ]
     },
     "execution_count": 140,
     "metadata": {},
     "output_type": "execute_result"
    }
   ],
   "source": [
    "query = \"\"\"SELECT * FROM `dataprep.cantidad_de_tipos_de_cuentas`\"\"\"\n",
    "\n",
    "pd.read_gbq(query, credentials = credentials_bigquery)"
   ]
  },
  {
   "cell_type": "code",
   "execution_count": null,
   "id": "17045a2e-5e0c-45cf-8b3c-c55dd5427785",
   "metadata": {},
   "outputs": [],
   "source": []
  },
  {
   "cell_type": "code",
   "execution_count": null,
   "id": "604b9c88-cba5-4a8d-9064-564c11288264",
   "metadata": {},
   "outputs": [],
   "source": []
  }
 ],
 "metadata": {
  "kernelspec": {
   "display_name": "gestion de datos",
   "language": "python",
   "name": "gestion_de_datos"
  },
  "language_info": {
   "codemirror_mode": {
    "name": "ipython",
    "version": 3
   },
   "file_extension": ".py",
   "mimetype": "text/x-python",
   "name": "python",
   "nbconvert_exporter": "python",
   "pygments_lexer": "ipython3",
   "version": "3.8.13"
  }
 },
 "nbformat": 4,
 "nbformat_minor": 5
}
